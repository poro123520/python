{
 "cells": [
  {
   "cell_type": "markdown",
   "metadata": {},
   "source": [
    "## Chap6-1:DataFrame loc,iloc\n",
    "### DaraFrame比numpy ndarry(element-wise)提供資料統整的功能\n",
    "### DaraFrame通常為2為資料\n",
    "### 橫的為列(索引index),直的為屬(columus)\n",
    "\n",
    "    "
   ]
  },
  {
   "cell_type": "code",
   "execution_count": 7,
   "metadata": {},
   "outputs": [
    {
     "data": {
      "text/html": [
       "<div>\n",
       "<style scoped>\n",
       "    .dataframe tbody tr th:only-of-type {\n",
       "        vertical-align: middle;\n",
       "    }\n",
       "\n",
       "    .dataframe tbody tr th {\n",
       "        vertical-align: top;\n",
       "    }\n",
       "\n",
       "    .dataframe thead th {\n",
       "        text-align: right;\n",
       "    }\n",
       "</style>\n",
       "<table border=\"1\" class=\"dataframe\">\n",
       "  <thead>\n",
       "    <tr style=\"text-align: right;\">\n",
       "      <th></th>\n",
       "      <th>A</th>\n",
       "      <th>B</th>\n",
       "      <th>C</th>\n",
       "      <th>D</th>\n",
       "      <th>E</th>\n",
       "      <th>F</th>\n",
       "    </tr>\n",
       "  </thead>\n",
       "  <tbody>\n",
       "    <tr>\n",
       "      <td>a</td>\n",
       "      <td>0.224311</td>\n",
       "      <td>0.696911</td>\n",
       "      <td>0.206065</td>\n",
       "      <td>0.586632</td>\n",
       "      <td>0.408918</td>\n",
       "      <td>0.354868</td>\n",
       "    </tr>\n",
       "    <tr>\n",
       "      <td>b</td>\n",
       "      <td>0.455118</td>\n",
       "      <td>0.709929</td>\n",
       "      <td>0.763170</td>\n",
       "      <td>0.126180</td>\n",
       "      <td>0.921557</td>\n",
       "      <td>0.086241</td>\n",
       "    </tr>\n",
       "    <tr>\n",
       "      <td>c</td>\n",
       "      <td>0.198046</td>\n",
       "      <td>0.482825</td>\n",
       "      <td>0.534350</td>\n",
       "      <td>0.229466</td>\n",
       "      <td>0.424747</td>\n",
       "      <td>0.500313</td>\n",
       "    </tr>\n",
       "    <tr>\n",
       "      <td>d</td>\n",
       "      <td>0.649525</td>\n",
       "      <td>0.102024</td>\n",
       "      <td>0.264613</td>\n",
       "      <td>0.885100</td>\n",
       "      <td>0.467070</td>\n",
       "      <td>0.594919</td>\n",
       "    </tr>\n",
       "    <tr>\n",
       "      <td>e</td>\n",
       "      <td>0.134519</td>\n",
       "      <td>0.327949</td>\n",
       "      <td>0.243966</td>\n",
       "      <td>0.178303</td>\n",
       "      <td>0.172484</td>\n",
       "      <td>0.402401</td>\n",
       "    </tr>\n",
       "    <tr>\n",
       "      <td>f</td>\n",
       "      <td>0.498440</td>\n",
       "      <td>0.688622</td>\n",
       "      <td>0.201756</td>\n",
       "      <td>0.040488</td>\n",
       "      <td>0.468221</td>\n",
       "      <td>0.607672</td>\n",
       "    </tr>\n",
       "  </tbody>\n",
       "</table>\n",
       "</div>"
      ],
      "text/plain": [
       "          A         B         C         D         E         F\n",
       "a  0.224311  0.696911  0.206065  0.586632  0.408918  0.354868\n",
       "b  0.455118  0.709929  0.763170  0.126180  0.921557  0.086241\n",
       "c  0.198046  0.482825  0.534350  0.229466  0.424747  0.500313\n",
       "d  0.649525  0.102024  0.264613  0.885100  0.467070  0.594919\n",
       "e  0.134519  0.327949  0.243966  0.178303  0.172484  0.402401\n",
       "f  0.498440  0.688622  0.201756  0.040488  0.468221  0.607672"
      ]
     },
     "execution_count": 7,
     "metadata": {},
     "output_type": "execute_result"
    }
   ],
   "source": [
    "# 隨機產生DataFrame資料\n",
    "\n",
    "import numpy as np\n",
    "import pandas as pd\n",
    "frame=pd.DataFrame(np.random.rand(6,6),index=list('abcdef'),\n",
    "                      columns=list('ABCDEF'))\n",
    "frame\n"
   ]
  },
  {
   "cell_type": "markdown",
   "metadata": {},
   "source": [
    "## loc 用欄位來找出dataframe的資料\n",
    "## iloc 用欄位來找出dataframe的資料"
   ]
  },
  {
   "cell_type": "code",
   "execution_count": 9,
   "metadata": {},
   "outputs": [
    {
     "data": {
      "text/html": [
       "<div>\n",
       "<style scoped>\n",
       "    .dataframe tbody tr th:only-of-type {\n",
       "        vertical-align: middle;\n",
       "    }\n",
       "\n",
       "    .dataframe tbody tr th {\n",
       "        vertical-align: top;\n",
       "    }\n",
       "\n",
       "    .dataframe thead th {\n",
       "        text-align: right;\n",
       "    }\n",
       "</style>\n",
       "<table border=\"1\" class=\"dataframe\">\n",
       "  <thead>\n",
       "    <tr style=\"text-align: right;\">\n",
       "      <th></th>\n",
       "      <th>A</th>\n",
       "      <th>B</th>\n",
       "      <th>C</th>\n",
       "      <th>D</th>\n",
       "      <th>E</th>\n",
       "      <th>F</th>\n",
       "    </tr>\n",
       "  </thead>\n",
       "  <tbody>\n",
       "    <tr>\n",
       "      <td>count</td>\n",
       "      <td>6.000000</td>\n",
       "      <td>6.000000</td>\n",
       "      <td>6.000000</td>\n",
       "      <td>6.000000</td>\n",
       "      <td>6.000000</td>\n",
       "      <td>6.000000</td>\n",
       "    </tr>\n",
       "    <tr>\n",
       "      <td>mean</td>\n",
       "      <td>0.359993</td>\n",
       "      <td>0.501377</td>\n",
       "      <td>0.368987</td>\n",
       "      <td>0.341028</td>\n",
       "      <td>0.477166</td>\n",
       "      <td>0.424402</td>\n",
       "    </tr>\n",
       "    <tr>\n",
       "      <td>std</td>\n",
       "      <td>0.203726</td>\n",
       "      <td>0.247666</td>\n",
       "      <td>0.229677</td>\n",
       "      <td>0.326112</td>\n",
       "      <td>0.244091</td>\n",
       "      <td>0.193958</td>\n",
       "    </tr>\n",
       "    <tr>\n",
       "      <td>min</td>\n",
       "      <td>0.134519</td>\n",
       "      <td>0.102024</td>\n",
       "      <td>0.201756</td>\n",
       "      <td>0.040488</td>\n",
       "      <td>0.172484</td>\n",
       "      <td>0.086241</td>\n",
       "    </tr>\n",
       "    <tr>\n",
       "      <td>25%</td>\n",
       "      <td>0.204612</td>\n",
       "      <td>0.366668</td>\n",
       "      <td>0.215540</td>\n",
       "      <td>0.139211</td>\n",
       "      <td>0.412876</td>\n",
       "      <td>0.366751</td>\n",
       "    </tr>\n",
       "    <tr>\n",
       "      <td>50%</td>\n",
       "      <td>0.339714</td>\n",
       "      <td>0.585724</td>\n",
       "      <td>0.254290</td>\n",
       "      <td>0.203884</td>\n",
       "      <td>0.445909</td>\n",
       "      <td>0.451357</td>\n",
       "    </tr>\n",
       "    <tr>\n",
       "      <td>75%</td>\n",
       "      <td>0.487610</td>\n",
       "      <td>0.694838</td>\n",
       "      <td>0.466916</td>\n",
       "      <td>0.497340</td>\n",
       "      <td>0.467934</td>\n",
       "      <td>0.571267</td>\n",
       "    </tr>\n",
       "    <tr>\n",
       "      <td>max</td>\n",
       "      <td>0.649525</td>\n",
       "      <td>0.709929</td>\n",
       "      <td>0.763170</td>\n",
       "      <td>0.885100</td>\n",
       "      <td>0.921557</td>\n",
       "      <td>0.607672</td>\n",
       "    </tr>\n",
       "  </tbody>\n",
       "</table>\n",
       "</div>"
      ],
      "text/plain": [
       "              A         B         C         D         E         F\n",
       "count  6.000000  6.000000  6.000000  6.000000  6.000000  6.000000\n",
       "mean   0.359993  0.501377  0.368987  0.341028  0.477166  0.424402\n",
       "std    0.203726  0.247666  0.229677  0.326112  0.244091  0.193958\n",
       "min    0.134519  0.102024  0.201756  0.040488  0.172484  0.086241\n",
       "25%    0.204612  0.366668  0.215540  0.139211  0.412876  0.366751\n",
       "50%    0.339714  0.585724  0.254290  0.203884  0.445909  0.451357\n",
       "75%    0.487610  0.694838  0.466916  0.497340  0.467934  0.571267\n",
       "max    0.649525  0.709929  0.763170  0.885100  0.921557  0.607672"
      ]
     },
     "execution_count": 9,
     "metadata": {},
     "output_type": "execute_result"
    }
   ],
   "source": [
    "frame.describe()"
   ]
  },
  {
   "cell_type": "code",
   "execution_count": 10,
   "metadata": {},
   "outputs": [
    {
     "data": {
      "text/plain": [
       "0.2243106476132284"
      ]
     },
     "execution_count": 10,
     "metadata": {},
     "output_type": "execute_result"
    }
   ],
   "source": [
    "frame.loc['a','A']"
   ]
  },
  {
   "cell_type": "code",
   "execution_count": 12,
   "metadata": {},
   "outputs": [
    {
     "data": {
      "text/html": [
       "<div>\n",
       "<style scoped>\n",
       "    .dataframe tbody tr th:only-of-type {\n",
       "        vertical-align: middle;\n",
       "    }\n",
       "\n",
       "    .dataframe tbody tr th {\n",
       "        vertical-align: top;\n",
       "    }\n",
       "\n",
       "    .dataframe thead th {\n",
       "        text-align: right;\n",
       "    }\n",
       "</style>\n",
       "<table border=\"1\" class=\"dataframe\">\n",
       "  <thead>\n",
       "    <tr style=\"text-align: right;\">\n",
       "      <th></th>\n",
       "      <th>A</th>\n",
       "      <th>B</th>\n",
       "      <th>C</th>\n",
       "      <th>D</th>\n",
       "      <th>E</th>\n",
       "      <th>F</th>\n",
       "    </tr>\n",
       "  </thead>\n",
       "  <tbody>\n",
       "    <tr>\n",
       "      <td>a</td>\n",
       "      <td>0.224311</td>\n",
       "      <td>0.696911</td>\n",
       "      <td>0.206065</td>\n",
       "      <td>0.586632</td>\n",
       "      <td>0.408918</td>\n",
       "      <td>0.354868</td>\n",
       "    </tr>\n",
       "    <tr>\n",
       "      <td>b</td>\n",
       "      <td>0.455118</td>\n",
       "      <td>0.709929</td>\n",
       "      <td>0.763170</td>\n",
       "      <td>0.126180</td>\n",
       "      <td>0.921557</td>\n",
       "      <td>0.086241</td>\n",
       "    </tr>\n",
       "  </tbody>\n",
       "</table>\n",
       "</div>"
      ],
      "text/plain": [
       "          A         B         C         D         E         F\n",
       "a  0.224311  0.696911  0.206065  0.586632  0.408918  0.354868\n",
       "b  0.455118  0.709929  0.763170  0.126180  0.921557  0.086241"
      ]
     },
     "execution_count": 12,
     "metadata": {},
     "output_type": "execute_result"
    }
   ],
   "source": [
    "#取前兩列的對應資料\n",
    "frame.loc['a':'b',:]"
   ]
  },
  {
   "cell_type": "code",
   "execution_count": 14,
   "metadata": {},
   "outputs": [
    {
     "data": {
      "text/html": [
       "<div>\n",
       "<style scoped>\n",
       "    .dataframe tbody tr th:only-of-type {\n",
       "        vertical-align: middle;\n",
       "    }\n",
       "\n",
       "    .dataframe tbody tr th {\n",
       "        vertical-align: top;\n",
       "    }\n",
       "\n",
       "    .dataframe thead th {\n",
       "        text-align: right;\n",
       "    }\n",
       "</style>\n",
       "<table border=\"1\" class=\"dataframe\">\n",
       "  <thead>\n",
       "    <tr style=\"text-align: right;\">\n",
       "      <th></th>\n",
       "      <th>A</th>\n",
       "      <th>B</th>\n",
       "    </tr>\n",
       "  </thead>\n",
       "  <tbody>\n",
       "    <tr>\n",
       "      <td>a</td>\n",
       "      <td>0.224311</td>\n",
       "      <td>0.696911</td>\n",
       "    </tr>\n",
       "    <tr>\n",
       "      <td>b</td>\n",
       "      <td>0.455118</td>\n",
       "      <td>0.709929</td>\n",
       "    </tr>\n",
       "    <tr>\n",
       "      <td>c</td>\n",
       "      <td>0.198046</td>\n",
       "      <td>0.482825</td>\n",
       "    </tr>\n",
       "    <tr>\n",
       "      <td>d</td>\n",
       "      <td>0.649525</td>\n",
       "      <td>0.102024</td>\n",
       "    </tr>\n",
       "    <tr>\n",
       "      <td>e</td>\n",
       "      <td>0.134519</td>\n",
       "      <td>0.327949</td>\n",
       "    </tr>\n",
       "    <tr>\n",
       "      <td>f</td>\n",
       "      <td>0.498440</td>\n",
       "      <td>0.688622</td>\n",
       "    </tr>\n",
       "  </tbody>\n",
       "</table>\n",
       "</div>"
      ],
      "text/plain": [
       "          A         B\n",
       "a  0.224311  0.696911\n",
       "b  0.455118  0.709929\n",
       "c  0.198046  0.482825\n",
       "d  0.649525  0.102024\n",
       "e  0.134519  0.327949\n",
       "f  0.498440  0.688622"
      ]
     },
     "execution_count": 14,
     "metadata": {},
     "output_type": "execute_result"
    }
   ],
   "source": [
    "#取前兩欄的對應資料\n",
    "frame.loc[:,'A':'B']"
   ]
  },
  {
   "cell_type": "code",
   "execution_count": 17,
   "metadata": {},
   "outputs": [
    {
     "data": {
      "text/html": [
       "<div>\n",
       "<style scoped>\n",
       "    .dataframe tbody tr th:only-of-type {\n",
       "        vertical-align: middle;\n",
       "    }\n",
       "\n",
       "    .dataframe tbody tr th {\n",
       "        vertical-align: top;\n",
       "    }\n",
       "\n",
       "    .dataframe thead th {\n",
       "        text-align: right;\n",
       "    }\n",
       "</style>\n",
       "<table border=\"1\" class=\"dataframe\">\n",
       "  <thead>\n",
       "    <tr style=\"text-align: right;\">\n",
       "      <th></th>\n",
       "      <th>A</th>\n",
       "      <th>B</th>\n",
       "      <th>C</th>\n",
       "      <th>D</th>\n",
       "      <th>E</th>\n",
       "      <th>F</th>\n",
       "    </tr>\n",
       "  </thead>\n",
       "  <tbody>\n",
       "    <tr>\n",
       "      <td>a</td>\n",
       "      <td>0.224311</td>\n",
       "      <td>0.696911</td>\n",
       "      <td>0.206065</td>\n",
       "      <td>0.586632</td>\n",
       "      <td>0.408918</td>\n",
       "      <td>0.354868</td>\n",
       "    </tr>\n",
       "    <tr>\n",
       "      <td>c</td>\n",
       "      <td>0.198046</td>\n",
       "      <td>0.482825</td>\n",
       "      <td>0.534350</td>\n",
       "      <td>0.229466</td>\n",
       "      <td>0.424747</td>\n",
       "      <td>0.500313</td>\n",
       "    </tr>\n",
       "  </tbody>\n",
       "</table>\n",
       "</div>"
      ],
      "text/plain": [
       "          A         B         C         D         E         F\n",
       "a  0.224311  0.696911  0.206065  0.586632  0.408918  0.354868\n",
       "c  0.198046  0.482825  0.534350  0.229466  0.424747  0.500313"
      ]
     },
     "execution_count": 17,
     "metadata": {},
     "output_type": "execute_result"
    }
   ],
   "source": [
    "#取特殊列、欄的資料\n",
    "frame.loc[['a','c'],:]"
   ]
  },
  {
   "cell_type": "code",
   "execution_count": 21,
   "metadata": {},
   "outputs": [
    {
     "name": "stdout",
     "output_type": "stream",
     "text": [
      "          A         B         C         D         E         F\n",
      "a  0.224311  0.696911  0.206065  0.586632  0.408918  0.354868\n",
      "c  0.198046  0.482825  0.534350  0.229466  0.424747  0.500313\n",
      "          A         C\n",
      "a  0.224311  0.206065\n",
      "b  0.455118  0.763170\n",
      "c  0.198046  0.534350\n",
      "d  0.649525  0.264613\n",
      "e  0.134519  0.243966\n",
      "f  0.498440  0.201756\n",
      "          A         D\n",
      "a  0.224311  0.586632\n",
      "d  0.649525  0.885100\n"
     ]
    }
   ],
   "source": [
    "#取特殊列、欄的資料\n",
    "print(frame.loc[['a','c'],:])\n",
    "print(frame.loc[:,['A','C']])\n",
    "print(frame.loc[['a','d'],['A','D']])"
   ]
  },
  {
   "cell_type": "code",
   "execution_count": 22,
   "metadata": {},
   "outputs": [
    {
     "data": {
      "text/html": [
       "<div>\n",
       "<style scoped>\n",
       "    .dataframe tbody tr th:only-of-type {\n",
       "        vertical-align: middle;\n",
       "    }\n",
       "\n",
       "    .dataframe tbody tr th {\n",
       "        vertical-align: top;\n",
       "    }\n",
       "\n",
       "    .dataframe thead th {\n",
       "        text-align: right;\n",
       "    }\n",
       "</style>\n",
       "<table border=\"1\" class=\"dataframe\">\n",
       "  <thead>\n",
       "    <tr style=\"text-align: right;\">\n",
       "      <th></th>\n",
       "      <th>A</th>\n",
       "      <th>B</th>\n",
       "      <th>C</th>\n",
       "      <th>D</th>\n",
       "      <th>E</th>\n",
       "      <th>F</th>\n",
       "    </tr>\n",
       "  </thead>\n",
       "  <tbody>\n",
       "    <tr>\n",
       "      <td>a</td>\n",
       "      <td>0.224311</td>\n",
       "      <td>0.696911</td>\n",
       "      <td>0.206065</td>\n",
       "      <td>0.586632</td>\n",
       "      <td>0.408918</td>\n",
       "      <td>0.354868</td>\n",
       "    </tr>\n",
       "    <tr>\n",
       "      <td>b</td>\n",
       "      <td>0.455118</td>\n",
       "      <td>0.709929</td>\n",
       "      <td>0.763170</td>\n",
       "      <td>0.126180</td>\n",
       "      <td>0.921557</td>\n",
       "      <td>0.086241</td>\n",
       "    </tr>\n",
       "    <tr>\n",
       "      <td>c</td>\n",
       "      <td>0.198046</td>\n",
       "      <td>0.482825</td>\n",
       "      <td>0.534350</td>\n",
       "      <td>0.229466</td>\n",
       "      <td>0.424747</td>\n",
       "      <td>0.500313</td>\n",
       "    </tr>\n",
       "    <tr>\n",
       "      <td>d</td>\n",
       "      <td>0.649525</td>\n",
       "      <td>0.102024</td>\n",
       "      <td>0.264613</td>\n",
       "      <td>0.885100</td>\n",
       "      <td>0.467070</td>\n",
       "      <td>0.594919</td>\n",
       "    </tr>\n",
       "    <tr>\n",
       "      <td>e</td>\n",
       "      <td>0.134519</td>\n",
       "      <td>0.327949</td>\n",
       "      <td>0.243966</td>\n",
       "      <td>0.178303</td>\n",
       "      <td>0.172484</td>\n",
       "      <td>0.402401</td>\n",
       "    </tr>\n",
       "    <tr>\n",
       "      <td>f</td>\n",
       "      <td>0.498440</td>\n",
       "      <td>0.688622</td>\n",
       "      <td>0.201756</td>\n",
       "      <td>0.040488</td>\n",
       "      <td>0.468221</td>\n",
       "      <td>0.607672</td>\n",
       "    </tr>\n",
       "  </tbody>\n",
       "</table>\n",
       "</div>"
      ],
      "text/plain": [
       "          A         B         C         D         E         F\n",
       "a  0.224311  0.696911  0.206065  0.586632  0.408918  0.354868\n",
       "b  0.455118  0.709929  0.763170  0.126180  0.921557  0.086241\n",
       "c  0.198046  0.482825  0.534350  0.229466  0.424747  0.500313\n",
       "d  0.649525  0.102024  0.264613  0.885100  0.467070  0.594919\n",
       "e  0.134519  0.327949  0.243966  0.178303  0.172484  0.402401\n",
       "f  0.498440  0.688622  0.201756  0.040488  0.468221  0.607672"
      ]
     },
     "execution_count": 22,
     "metadata": {},
     "output_type": "execute_result"
    }
   ],
   "source": [
    "frame"
   ]
  },
  {
   "cell_type": "markdown",
   "metadata": {},
   "source": [
    "## iloc是利用列索引與欄索引進行資料定位，都是從0開始"
   ]
  },
  {
   "cell_type": "code",
   "execution_count": 23,
   "metadata": {},
   "outputs": [
    {
     "data": {
      "text/plain": [
       "0.2243106476132284"
      ]
     },
     "execution_count": 23,
     "metadata": {},
     "output_type": "execute_result"
    }
   ],
   "source": [
    "frame.iloc[0,0]"
   ]
  },
  {
   "cell_type": "code",
   "execution_count": 25,
   "metadata": {},
   "outputs": [
    {
     "data": {
      "text/html": [
       "<div>\n",
       "<style scoped>\n",
       "    .dataframe tbody tr th:only-of-type {\n",
       "        vertical-align: middle;\n",
       "    }\n",
       "\n",
       "    .dataframe tbody tr th {\n",
       "        vertical-align: top;\n",
       "    }\n",
       "\n",
       "    .dataframe thead th {\n",
       "        text-align: right;\n",
       "    }\n",
       "</style>\n",
       "<table border=\"1\" class=\"dataframe\">\n",
       "  <thead>\n",
       "    <tr style=\"text-align: right;\">\n",
       "      <th></th>\n",
       "      <th>A</th>\n",
       "      <th>B</th>\n",
       "      <th>C</th>\n",
       "      <th>D</th>\n",
       "      <th>E</th>\n",
       "      <th>F</th>\n",
       "    </tr>\n",
       "  </thead>\n",
       "  <tbody>\n",
       "    <tr>\n",
       "      <td>a</td>\n",
       "      <td>0.224311</td>\n",
       "      <td>0.696911</td>\n",
       "      <td>0.206065</td>\n",
       "      <td>0.586632</td>\n",
       "      <td>0.408918</td>\n",
       "      <td>0.354868</td>\n",
       "    </tr>\n",
       "    <tr>\n",
       "      <td>b</td>\n",
       "      <td>0.455118</td>\n",
       "      <td>0.709929</td>\n",
       "      <td>0.763170</td>\n",
       "      <td>0.126180</td>\n",
       "      <td>0.921557</td>\n",
       "      <td>0.086241</td>\n",
       "    </tr>\n",
       "  </tbody>\n",
       "</table>\n",
       "</div>"
      ],
      "text/plain": [
       "          A         B         C         D         E         F\n",
       "a  0.224311  0.696911  0.206065  0.586632  0.408918  0.354868\n",
       "b  0.455118  0.709929  0.763170  0.126180  0.921557  0.086241"
      ]
     },
     "execution_count": 25,
     "metadata": {},
     "output_type": "execute_result"
    }
   ],
   "source": [
    "#取前兩欄的對應資料\n",
    "frame.iloc[0:2,:]"
   ]
  },
  {
   "cell_type": "code",
   "execution_count": 26,
   "metadata": {},
   "outputs": [
    {
     "name": "stdout",
     "output_type": "stream",
     "text": [
      "          A         B         C         D         E         F\n",
      "a  0.224311  0.696911  0.206065  0.586632  0.408918  0.354868\n",
      "c  0.198046  0.482825  0.534350  0.229466  0.424747  0.500313\n",
      "          A         C\n",
      "a  0.224311  0.206065\n",
      "b  0.455118  0.763170\n",
      "c  0.198046  0.534350\n",
      "d  0.649525  0.264613\n",
      "e  0.134519  0.243966\n",
      "f  0.498440  0.201756\n",
      "          A         D\n",
      "a  0.224311  0.586632\n",
      "d  0.649525  0.885100\n"
     ]
    }
   ],
   "source": [
    "#取特殊列、欄的資料\n",
    "print(frame.iloc[[0,2],:])\n",
    "print(frame.iloc[:,[0,2]])\n",
    "print(frame.iloc[[0,3],[0,3]])"
   ]
  },
  {
   "cell_type": "markdown",
   "metadata": {},
   "source": [
    "# 真正的6"
   ]
  },
  {
   "cell_type": "code",
   "execution_count": 30,
   "metadata": {},
   "outputs": [
    {
     "name": "stdout",
     "output_type": "stream",
     "text": [
      "0    False\n",
      "1    False\n",
      "2     True\n",
      "3    False\n",
      "4    False\n",
      "5    False\n",
      "Name: group, dtype: bool\n",
      "0     True\n",
      "1     True\n",
      "2     True\n",
      "3     True\n",
      "4     True\n",
      "5    False\n",
      "Name: ironmen, dtype: bool\n"
     ]
    }
   ],
   "source": [
    "import numpy as np\n",
    "import pandas as pd\n",
    "groups =[\"Modern Web\",\"DevOps\",np.nan,\"Big Data\",\"Security\",\"自我挑戰組\"]\n",
    "ironmen =[59,9,19,14,6,np.nan]\n",
    "ironmen_dict={\"group\":groups,\"ironmen\":ironmen}\n",
    "ironmen_df=pd.DataFrame(ironmen_dict)\n",
    "#print(ironmen_df)\n",
    "print(ironmen_df.loc[:,\"group\"].isnull())#判斷哪些組是遺失的\n",
    "print(ironmen_df.loc[:,\"ironmen\"].notnull())#判斷哪些組的鐵人樹不是遺失值"
   ]
  },
  {
   "cell_type": "code",
   "execution_count": 32,
   "metadata": {},
   "outputs": [
    {
     "name": "stdout",
     "output_type": "stream",
     "text": [
      "2    NaN\n",
      "Name: group, dtype: object\n",
      "0    59.0\n",
      "1     9.0\n",
      "2    19.0\n",
      "3    14.0\n",
      "4     6.0\n",
      "Name: ironmen, dtype: float64\n"
     ]
    }
   ],
   "source": [
    "print(ironmen_df.group[ironmen_df.loc[:,\"group\"].isnull()])\n",
    "print(ironmen_df.ironmen[ironmen_df.loc[:,\"ironmen\"].notnull()])"
   ]
  },
  {
   "cell_type": "code",
   "execution_count": 35,
   "metadata": {},
   "outputs": [
    {
     "name": "stdout",
     "output_type": "stream",
     "text": [
      "        group  ironmen\n",
      "0  Modern Web     59.0\n",
      "1      DevOps      9.0\n",
      "2         NaN     19.0\n",
      "3    Big Data     14.0\n",
      "4    Security      6.0\n",
      "5       自我挑戰組      NaN\n",
      "        group  ironmen\n",
      "0  Modern Web     59.0\n",
      "1      DevOps      9.0\n",
      "3    Big Data     14.0\n",
      "4    Security      6.0\n",
      "        group  ironmen\n",
      "0  Modern Web     59.0\n",
      "1      DevOps      9.0\n",
      "2           0     19.0\n",
      "3    Big Data     14.0\n",
      "4    Security      6.0\n",
      "5       自我挑戰組      0.0\n",
      "        group  ironmen\n",
      "0  Modern Web     59.0\n",
      "1      DevOps      9.0\n",
      "2       Cloud     19.0\n",
      "3    Big Data     14.0\n",
      "4    Security      6.0\n",
      "5       自我挑戰組     71.0\n"
     ]
    }
   ],
   "source": [
    "print(ironmen_df)\n",
    "ironmen_df_dropped = ironmen_df.dropna() #刪除遺失值\n",
    "print(ironmen_df_dropped)\n",
    "ironmen_df_filled = ironmen_df.fillna(0)\n",
    "print(ironmen_df_filled)\n",
    "ironmen_df_fillvalue = ironmen_df.fillna({\"group\":\"Cloud\",\"ironmen\":71})\n",
    "print(ironmen_df_fillvalue)"
   ]
  },
  {
   "cell_type": "code",
   "execution_count": null,
   "metadata": {},
   "outputs": [],
   "source": []
  }
 ],
 "metadata": {
  "kernelspec": {
   "display_name": "Python 3",
   "language": "python",
   "name": "python3"
  },
  "language_info": {
   "codemirror_mode": {
    "name": "ipython",
    "version": 3
   },
   "file_extension": ".py",
   "mimetype": "text/x-python",
   "name": "python",
   "nbconvert_exporter": "python",
   "pygments_lexer": "ipython3",
   "version": "3.7.4"
  }
 },
 "nbformat": 4,
 "nbformat_minor": 2
}
